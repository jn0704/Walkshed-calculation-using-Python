{
 "cells": [
  {
   "cell_type": "code",
   "execution_count": 1,
   "metadata": {},
   "outputs": [],
   "source": [
    "import networkx as nx\n",
    "import pandas as pd\n",
    "from osgeo import ogr\n",
    "import sys\n",
    "import json\n",
    "from networkx.readwrite import json_graph\n",
    "import time\n",
    "import numpy as np"
   ]
  },
  {
   "cell_type": "code",
   "execution_count": 2,
   "metadata": {},
   "outputs": [
    {
     "name": "stdout",
     "output_type": "stream",
     "text": [
      "['MESH_ID', 'LINK_ID', 'S_NODE_ID', 'E_NODE_ID', 'WROAD_CATE', 'LINK_CATE', 'LINK_FACIL', 'ID', 'CFT', 'CGT', 'CDATE', 'CTIME', 'CNAME', 'LEN', 'FT', 'GT', 'RT', 'TTW_C', 'TTW_O', 'LEN_10M', 'NUM', 'Y', 'X']\n"
     ]
    }
   ],
   "source": [
    "\"\"\"\n",
    "In this cell, we read shapefiles for the anlaysis and check the information\n",
    "\"\"\"\n",
    "\n",
    "## read shapefiles\n",
    "road_ds = ogr.Open() # Input pedestrin path layer\n",
    "road_lyr = road_ds.GetLayer()\n",
    "\n",
    "## Get field name of road network\n",
    "rfn = [] #road field name\n",
    "road_field = road_lyr.GetLayerDefn()\n",
    "for n in range(road_field.GetFieldCount()) :\n",
    "        name = road_field.GetFieldDefn(n).name\n",
    "        rfn.append(name)\n",
    "rfn.append('Y')\n",
    "rfn.append('X')"
   ]
  },
  {
   "cell_type": "code",
   "execution_count": 4,
   "metadata": {},
   "outputs": [
    {
     "name": "stdout",
     "output_type": "stream",
     "text": [
      "finish\n"
     ]
    }
   ],
   "source": [
    "\"\"\"\n",
    "Notice!\n",
    "If we already have dataset as jsonfiles, we just read these files\n",
    "\"\"\"\n",
    "# read data for analysis\n",
    "dict_coorToNum = json.load(open()) # Input path\n",
    "dict_numToCoor = json.load(open()) # Input path\n",
    "js_G = json.load(open()) # Input path\n",
    "G = json_graph.node_link_graph(js_G)\n",
    "road_df = pd.read_json() # Input path"
   ]
  },
  {
   "cell_type": "code",
   "execution_count": 5,
   "metadata": {},
   "outputs": [],
   "source": [
    "\"\"\"\n",
    "Create numpy array to get cordinatese from edges\n",
    "\"\"\"\n",
    "\n",
    "road_df['index'] = (road_df['START_NODE'].map(str) + '.' + road_df['END_NODE'].map(str)).apply(float)\n",
    "index = np.array(road_df['index'])\n",
    "coords = road_df['COORDINATES']\n",
    "length = road_df['LEN_10M'].astype(str)\n",
    "values = np.array(pd.concat([coords,length], axis=1))"
   ]
  },
  {
   "cell_type": "code",
   "execution_count": 1,
   "metadata": {
    "ExecuteTime": {
     "end_time": "2021-04-27T05:28:52.654143Z",
     "start_time": "2021-04-27T05:28:52.647164Z"
    }
   },
   "outputs": [
    {
     "name": "stdout",
     "output_type": "stream",
     "text": [
      "\n"
     ]
    }
   ],
   "source": [
    "k = 1\n",
    "st = time.time()\n",
    "for edge in G.edges() :\n",
    "    num = nx.get_edge_attributes(G, 'NUM')[edge]\n",
    "    point_1 = edge[0]\n",
    "    point_2 = edge[1]\n",
    "    try:\n",
    "        shed_1 = nx.generators.ego_graph(G, point_1, radius=600, center=True, undirected=False, distance='LEN_10M')\n",
    "    except:\n",
    "        print('error1: ' + str(point_1))\n",
    "\n",
    "    try :\n",
    "        shed_2 = nx.generators.ego_graph(G, point_2, radius=600, center=True, undirected=False, distance='LEN_10M')\n",
    "    except:\n",
    "        print('error2: ' + str(point_1))\n",
    "\n",
    "    for i in shed_2.edges() :\n",
    "        shed_1.add_edge(i[0], i[1])\n",
    "    shed_geom = ogr.Geometry(ogr.wkbMultiLineString)\n",
    "    shed_len = 0\n",
    "\n",
    "    for e in shed_1.edges() :\n",
    "        start = e[0]\n",
    "        end = e[1]         \n",
    "        try :\n",
    "            edge = float(str(start) + '.' + str(end))\n",
    "            i = find_index(index, edge)\n",
    "            i = i[0][0]\n",
    "        except :\n",
    "            edge = float(str(end) + '.' + str(start))\n",
    "            i = find_index(index, edge)\n",
    "            i = i[0][0]\n",
    "\n",
    "        coord, len_10m = find_values(i, values)\n",
    "        geom = ogr.Geometry(ogr.wkbLineString)\n",
    "        for i in coord :\n",
    "            x = float(i.split(',')[0])\n",
    "            y = float(i.split(',')[1])\n",
    "            geom.AddPoint(y, x)\n",
    "        shed_geom.AddGeometry(geom)\n",
    "        shed_len += len_10m\n",
    "    feat = ogr.Feature(path_defn)\n",
    "    feat.SetField('NUM', int(num))\n",
    "    feat.SetField('LEN_10M', float(shed_len))\n",
    "    feat.SetGeometry(shed_geom)\n",
    "    path_lyr.CreateFeature(feat)\n",
    "\n",
    "    if k % 10000 == 0 :\n",
    "        print(k)\n",
    "        et = time.time()\n",
    "        print((et-st)/k)\n",
    "    k += 1\n",
    "\n",
    "print('finish')"
   ]
  },
  {
   "cell_type": "code",
   "execution_count": 7,
   "metadata": {},
   "outputs": [
    {
     "name": "stdout",
     "output_type": "stream",
     "text": [
      "finish\n"
     ]
    }
   ],
   "source": [
    "\"\"\"\n",
    "In this module we create an empty shapefile to write line features\n",
    "\"\"\"\n",
    "## Create shapefile\n",
    "driver = ogr.GetDriverByName('ESRI Shapefile')\n",
    "data_source = driver.CreateDataSource() # Input path\n",
    "create_lyr = data_source.CreateLayer('Layer name should be same to shapefile name', road_lyr.GetSpatialRef(), ogr.wkbMultiLineString)\n",
    "data_source.Destroy()\n",
    "\n",
    "print('finish')"
   ]
  },
  {
   "cell_type": "code",
   "execution_count": 8,
   "metadata": {},
   "outputs": [
    {
     "name": "stdout",
     "output_type": "stream",
     "text": [
      "True\n"
     ]
    },
    {
     "data": {
      "text/plain": [
       "0"
      ]
     },
     "execution_count": 8,
     "metadata": {},
     "output_type": "execute_result"
    }
   ],
   "source": [
    "## Create walkshed path as linestring\n",
    "## read shapefile\n",
    "path_ds = ogr.Open(, 1) # Input shapefile path\n",
    "path_lyr = path_ds.GetLayer() # Input layer name\n",
    "path_defn = path_lyr.GetLayerDefn()\n",
    "print(path_lyr.GetGeomType() == ogr.wkbLineString)\n",
    "\n",
    "## set field\n",
    "path_lyr.CreateField(ogr.FieldDefn('NUM', ogr.OFTInteger))\n",
    "path_lyr.CreateField(ogr.FieldDefn('LEN_10M', ogr.OFTReal))"
   ]
  },
  {
   "cell_type": "code",
   "execution_count": 10,
   "metadata": {},
   "outputs": [
    {
     "name": "stdout",
     "output_type": "stream",
     "text": [
      "Finish!\n"
     ]
    }
   ],
   "source": [
    "## close path\n",
    "path_ds.Destroy()\n",
    "road_ds.Destroy()\n",
    "\n",
    "print('Finish!')"
   ]
  },
  {
   "cell_type": "code",
   "execution_count": null,
   "metadata": {},
   "outputs": [],
   "source": []
  },
  {
   "cell_type": "code",
   "execution_count": null,
   "metadata": {},
   "outputs": [],
   "source": []
  }
 ],
 "metadata": {
  "kernelspec": {
   "display_name": "Python 3",
   "language": "python",
   "name": "python3"
  },
  "language_info": {
   "codemirror_mode": {
    "name": "ipython",
    "version": 3
   },
   "file_extension": ".py",
   "mimetype": "text/x-python",
   "name": "python",
   "nbconvert_exporter": "python",
   "pygments_lexer": "ipython3",
   "version": "3.8.5"
  }
 },
 "nbformat": 4,
 "nbformat_minor": 4
}
